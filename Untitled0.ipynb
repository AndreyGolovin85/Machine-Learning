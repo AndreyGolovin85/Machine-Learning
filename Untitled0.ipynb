{
  "nbformat": 4,
  "nbformat_minor": 0,
  "metadata": {
    "colab": {
      "name": "Untitled0.ipynb",
      "provenance": [],
      "collapsed_sections": [],
      "mount_file_id": "1c8CdmGC-viyglKVzE1MNTEf1CjifLr0G",
      "authorship_tag": "ABX9TyN5DGY+J5QFaWIWmL5AKS5f",
      "include_colab_link": true
    },
    "kernelspec": {
      "name": "python3",
      "display_name": "Python 3"
    },
    "language_info": {
      "name": "python"
    }
  },
  "cells": [
    {
      "cell_type": "markdown",
      "metadata": {
        "id": "view-in-github",
        "colab_type": "text"
      },
      "source": [
        "<a href=\"https://colab.research.google.com/github/AndreyGolovin85/Andrey/blob/master/Untitled0.ipynb\" target=\"_parent\"><img src=\"https://colab.research.google.com/assets/colab-badge.svg\" alt=\"Open In Colab\"/></a>"
      ]
    },
    {
      "cell_type": "code",
      "metadata": {
        "colab": {
          "base_uri": "https://localhost:8080/",
          "height": 1000
        },
        "id": "2VGQKUq7plha",
        "outputId": "d0894448-f24d-4ba4-a4a6-2f386273e48f"
      },
      "source": [
        "import pandas as pd\n",
        "#import numpy as np\n",
        "import matplotlib.pyplot as plt\n",
        "import seaborn as sns\n",
        "from sklearn.tree import DecisionTreeClassifier\n",
        "import graphviz\n",
        "from sklearn.tree import export_graphviz\n",
        "from IPython.display import SVG\n",
        "\n",
        "from google.colab import drive\n",
        "#drive.mount('/content/gdrive')\n",
        "\n",
        "data=pd.read_csv('/content/data.csv').drop(columns=['Unnamed: 0'])\n",
        "data\n"
      ],
      "execution_count": 28,
      "outputs": [
        {
          "output_type": "execute_result",
          "data": {
            "text/html": [
              "<div>\n",
              "<style scoped>\n",
              "    .dataframe tbody tr th:only-of-type {\n",
              "        vertical-align: middle;\n",
              "    }\n",
              "\n",
              "    .dataframe tbody tr th {\n",
              "        vertical-align: top;\n",
              "    }\n",
              "\n",
              "    .dataframe thead th {\n",
              "        text-align: right;\n",
              "    }\n",
              "</style>\n",
              "<table border=\"1\" class=\"dataframe\">\n",
              "  <thead>\n",
              "    <tr style=\"text-align: right;\">\n",
              "      <th></th>\n",
              "      <th>A1</th>\n",
              "      <th>A2</th>\n",
              "      <th>A3</th>\n",
              "      <th>A4</th>\n",
              "      <th>A5</th>\n",
              "      <th>A6</th>\n",
              "      <th>C</th>\n",
              "    </tr>\n",
              "  </thead>\n",
              "  <tbody>\n",
              "    <tr>\n",
              "      <th>0</th>\n",
              "      <td>0.240</td>\n",
              "      <td>-5.682</td>\n",
              "      <td>-1.625</td>\n",
              "      <td>-0.428</td>\n",
              "      <td>4.249</td>\n",
              "      <td>7.545</td>\n",
              "      <td>1.0</td>\n",
              "    </tr>\n",
              "    <tr>\n",
              "      <th>1</th>\n",
              "      <td>-9.959</td>\n",
              "      <td>7.743</td>\n",
              "      <td>-4.534</td>\n",
              "      <td>5.540</td>\n",
              "      <td>5.431</td>\n",
              "      <td>-0.554</td>\n",
              "      <td>0.0</td>\n",
              "    </tr>\n",
              "    <tr>\n",
              "      <th>2</th>\n",
              "      <td>-2.365</td>\n",
              "      <td>-10.659</td>\n",
              "      <td>-5.232</td>\n",
              "      <td>-2.362</td>\n",
              "      <td>6.580</td>\n",
              "      <td>5.510</td>\n",
              "      <td>1.0</td>\n",
              "    </tr>\n",
              "    <tr>\n",
              "      <th>3</th>\n",
              "      <td>-9.211</td>\n",
              "      <td>1.786</td>\n",
              "      <td>-1.431</td>\n",
              "      <td>7.868</td>\n",
              "      <td>8.793</td>\n",
              "      <td>-1.010</td>\n",
              "      <td>0.0</td>\n",
              "    </tr>\n",
              "    <tr>\n",
              "      <th>4</th>\n",
              "      <td>5.443</td>\n",
              "      <td>-5.874</td>\n",
              "      <td>-0.048</td>\n",
              "      <td>7.284</td>\n",
              "      <td>3.927</td>\n",
              "      <td>-2.143</td>\n",
              "      <td>4.0</td>\n",
              "    </tr>\n",
              "    <tr>\n",
              "      <th>5</th>\n",
              "      <td>-1.404</td>\n",
              "      <td>-7.957</td>\n",
              "      <td>-2.309</td>\n",
              "      <td>8.759</td>\n",
              "      <td>-6.966</td>\n",
              "      <td>-1.682</td>\n",
              "      <td>2.0</td>\n",
              "    </tr>\n",
              "    <tr>\n",
              "      <th>6</th>\n",
              "      <td>-4.848</td>\n",
              "      <td>-8.315</td>\n",
              "      <td>-4.193</td>\n",
              "      <td>7.334</td>\n",
              "      <td>-7.029</td>\n",
              "      <td>2.538</td>\n",
              "      <td>2.0</td>\n",
              "    </tr>\n",
              "    <tr>\n",
              "      <th>7</th>\n",
              "      <td>12.344</td>\n",
              "      <td>-12.497</td>\n",
              "      <td>2.964</td>\n",
              "      <td>11.227</td>\n",
              "      <td>-6.787</td>\n",
              "      <td>2.136</td>\n",
              "      <td>3.0</td>\n",
              "    </tr>\n",
              "    <tr>\n",
              "      <th>8</th>\n",
              "      <td>-1.598</td>\n",
              "      <td>-11.568</td>\n",
              "      <td>-3.264</td>\n",
              "      <td>7.053</td>\n",
              "      <td>-2.879</td>\n",
              "      <td>-0.644</td>\n",
              "      <td>2.0</td>\n",
              "    </tr>\n",
              "    <tr>\n",
              "      <th>9</th>\n",
              "      <td>6.482</td>\n",
              "      <td>-11.126</td>\n",
              "      <td>0.377</td>\n",
              "      <td>9.387</td>\n",
              "      <td>-5.576</td>\n",
              "      <td>2.878</td>\n",
              "      <td>3.0</td>\n",
              "    </tr>\n",
              "    <tr>\n",
              "      <th>10</th>\n",
              "      <td>-0.370</td>\n",
              "      <td>-9.741</td>\n",
              "      <td>-5.231</td>\n",
              "      <td>2.591</td>\n",
              "      <td>6.644</td>\n",
              "      <td>7.414</td>\n",
              "      <td>1.0</td>\n",
              "    </tr>\n",
              "    <tr>\n",
              "      <th>11</th>\n",
              "      <td>8.653</td>\n",
              "      <td>-13.089</td>\n",
              "      <td>1.623</td>\n",
              "      <td>10.397</td>\n",
              "      <td>-3.210</td>\n",
              "      <td>4.399</td>\n",
              "      <td>3.0</td>\n",
              "    </tr>\n",
              "    <tr>\n",
              "      <th>12</th>\n",
              "      <td>-3.162</td>\n",
              "      <td>-10.373</td>\n",
              "      <td>-2.963</td>\n",
              "      <td>8.453</td>\n",
              "      <td>-5.884</td>\n",
              "      <td>0.605</td>\n",
              "      <td>2.0</td>\n",
              "    </tr>\n",
              "    <tr>\n",
              "      <th>13</th>\n",
              "      <td>7.459</td>\n",
              "      <td>-5.760</td>\n",
              "      <td>1.068</td>\n",
              "      <td>6.630</td>\n",
              "      <td>2.493</td>\n",
              "      <td>-0.989</td>\n",
              "      <td>4.0</td>\n",
              "    </tr>\n",
              "    <tr>\n",
              "      <th>14</th>\n",
              "      <td>-0.363</td>\n",
              "      <td>-12.115</td>\n",
              "      <td>-3.322</td>\n",
              "      <td>1.786</td>\n",
              "      <td>4.416</td>\n",
              "      <td>4.228</td>\n",
              "      <td>1.0</td>\n",
              "    </tr>\n",
              "    <tr>\n",
              "      <th>15</th>\n",
              "      <td>-8.565</td>\n",
              "      <td>2.697</td>\n",
              "      <td>-2.042</td>\n",
              "      <td>-0.107</td>\n",
              "      <td>11.659</td>\n",
              "      <td>-0.063</td>\n",
              "      <td>0.0</td>\n",
              "    </tr>\n",
              "    <tr>\n",
              "      <th>16</th>\n",
              "      <td>-10.882</td>\n",
              "      <td>8.522</td>\n",
              "      <td>2.301</td>\n",
              "      <td>3.810</td>\n",
              "      <td>11.241</td>\n",
              "      <td>0.410</td>\n",
              "      <td>0.0</td>\n",
              "    </tr>\n",
              "    <tr>\n",
              "      <th>17</th>\n",
              "      <td>1.120</td>\n",
              "      <td>-7.206</td>\n",
              "      <td>-4.656</td>\n",
              "      <td>-0.154</td>\n",
              "      <td>2.237</td>\n",
              "      <td>5.963</td>\n",
              "      <td>1.0</td>\n",
              "    </tr>\n",
              "    <tr>\n",
              "      <th>18</th>\n",
              "      <td>6.137</td>\n",
              "      <td>-10.532</td>\n",
              "      <td>1.464</td>\n",
              "      <td>7.356</td>\n",
              "      <td>-5.956</td>\n",
              "      <td>-2.102</td>\n",
              "      <td>3.0</td>\n",
              "    </tr>\n",
              "    <tr>\n",
              "      <th>19</th>\n",
              "      <td>6.302</td>\n",
              "      <td>-7.599</td>\n",
              "      <td>2.390</td>\n",
              "      <td>6.130</td>\n",
              "      <td>0.731</td>\n",
              "      <td>0.685</td>\n",
              "      <td>4.0</td>\n",
              "    </tr>\n",
              "    <tr>\n",
              "      <th>20</th>\n",
              "      <td>10.060</td>\n",
              "      <td>-7.042</td>\n",
              "      <td>-2.899</td>\n",
              "      <td>7.038</td>\n",
              "      <td>0.497</td>\n",
              "      <td>-3.332</td>\n",
              "      <td>4.0</td>\n",
              "    </tr>\n",
              "    <tr>\n",
              "      <th>21</th>\n",
              "      <td>4.542</td>\n",
              "      <td>-6.821</td>\n",
              "      <td>-5.315</td>\n",
              "      <td>-0.946</td>\n",
              "      <td>1.856</td>\n",
              "      <td>6.824</td>\n",
              "      <td>1.0</td>\n",
              "    </tr>\n",
              "    <tr>\n",
              "      <th>22</th>\n",
              "      <td>10.347</td>\n",
              "      <td>-8.951</td>\n",
              "      <td>-3.637</td>\n",
              "      <td>9.136</td>\n",
              "      <td>-0.441</td>\n",
              "      <td>0.628</td>\n",
              "      <td>4.0</td>\n",
              "    </tr>\n",
              "    <tr>\n",
              "      <th>23</th>\n",
              "      <td>4.720</td>\n",
              "      <td>-8.755</td>\n",
              "      <td>0.589</td>\n",
              "      <td>9.995</td>\n",
              "      <td>-6.456</td>\n",
              "      <td>-1.274</td>\n",
              "      <td>3.0</td>\n",
              "    </tr>\n",
              "    <tr>\n",
              "      <th>24</th>\n",
              "      <td>-7.935</td>\n",
              "      <td>4.549</td>\n",
              "      <td>2.592</td>\n",
              "      <td>4.944</td>\n",
              "      <td>9.763</td>\n",
              "      <td>1.275</td>\n",
              "      <td>0.0</td>\n",
              "    </tr>\n",
              "    <tr>\n",
              "      <th>25</th>\n",
              "      <td>7.226</td>\n",
              "      <td>-6.566</td>\n",
              "      <td>1.070</td>\n",
              "      <td>7.447</td>\n",
              "      <td>3.613</td>\n",
              "      <td>-4.353</td>\n",
              "      <td>4.0</td>\n",
              "    </tr>\n",
              "    <tr>\n",
              "      <th>26</th>\n",
              "      <td>1.054</td>\n",
              "      <td>-9.598</td>\n",
              "      <td>-4.813</td>\n",
              "      <td>8.791</td>\n",
              "      <td>-3.620</td>\n",
              "      <td>0.174</td>\n",
              "      <td>2.0</td>\n",
              "    </tr>\n",
              "    <tr>\n",
              "      <th>27</th>\n",
              "      <td>5.512</td>\n",
              "      <td>-7.985</td>\n",
              "      <td>4.424</td>\n",
              "      <td>10.964</td>\n",
              "      <td>-7.253</td>\n",
              "      <td>1.793</td>\n",
              "      <td>3.0</td>\n",
              "    </tr>\n",
              "    <tr>\n",
              "      <th>28</th>\n",
              "      <td>-3.423</td>\n",
              "      <td>-8.262</td>\n",
              "      <td>-6.393</td>\n",
              "      <td>4.527</td>\n",
              "      <td>-5.556</td>\n",
              "      <td>-3.631</td>\n",
              "      <td>2.0</td>\n",
              "    </tr>\n",
              "    <tr>\n",
              "      <th>29</th>\n",
              "      <td>-8.739</td>\n",
              "      <td>4.979</td>\n",
              "      <td>-4.102</td>\n",
              "      <td>5.473</td>\n",
              "      <td>9.370</td>\n",
              "      <td>3.156</td>\n",
              "      <td>0.0</td>\n",
              "    </tr>\n",
              "    <tr>\n",
              "      <th>30</th>\n",
              "      <td>-7.338</td>\n",
              "      <td>4.093</td>\n",
              "      <td>-4.648</td>\n",
              "      <td>0.863</td>\n",
              "      <td>10.326</td>\n",
              "      <td>5.265</td>\n",
              "      <td>0.0</td>\n",
              "    </tr>\n",
              "  </tbody>\n",
              "</table>\n",
              "</div>"
            ],
            "text/plain": [
              "        A1      A2     A3      A4      A5     A6    C\n",
              "0    0.240  -5.682 -1.625  -0.428   4.249  7.545  1.0\n",
              "1   -9.959   7.743 -4.534   5.540   5.431 -0.554  0.0\n",
              "2   -2.365 -10.659 -5.232  -2.362   6.580  5.510  1.0\n",
              "3   -9.211   1.786 -1.431   7.868   8.793 -1.010  0.0\n",
              "4    5.443  -5.874 -0.048   7.284   3.927 -2.143  4.0\n",
              "5   -1.404  -7.957 -2.309   8.759  -6.966 -1.682  2.0\n",
              "6   -4.848  -8.315 -4.193   7.334  -7.029  2.538  2.0\n",
              "7   12.344 -12.497  2.964  11.227  -6.787  2.136  3.0\n",
              "8   -1.598 -11.568 -3.264   7.053  -2.879 -0.644  2.0\n",
              "9    6.482 -11.126  0.377   9.387  -5.576  2.878  3.0\n",
              "10  -0.370  -9.741 -5.231   2.591   6.644  7.414  1.0\n",
              "11   8.653 -13.089  1.623  10.397  -3.210  4.399  3.0\n",
              "12  -3.162 -10.373 -2.963   8.453  -5.884  0.605  2.0\n",
              "13   7.459  -5.760  1.068   6.630   2.493 -0.989  4.0\n",
              "14  -0.363 -12.115 -3.322   1.786   4.416  4.228  1.0\n",
              "15  -8.565   2.697 -2.042  -0.107  11.659 -0.063  0.0\n",
              "16 -10.882   8.522  2.301   3.810  11.241  0.410  0.0\n",
              "17   1.120  -7.206 -4.656  -0.154   2.237  5.963  1.0\n",
              "18   6.137 -10.532  1.464   7.356  -5.956 -2.102  3.0\n",
              "19   6.302  -7.599  2.390   6.130   0.731  0.685  4.0\n",
              "20  10.060  -7.042 -2.899   7.038   0.497 -3.332  4.0\n",
              "21   4.542  -6.821 -5.315  -0.946   1.856  6.824  1.0\n",
              "22  10.347  -8.951 -3.637   9.136  -0.441  0.628  4.0\n",
              "23   4.720  -8.755  0.589   9.995  -6.456 -1.274  3.0\n",
              "24  -7.935   4.549  2.592   4.944   9.763  1.275  0.0\n",
              "25   7.226  -6.566  1.070   7.447   3.613 -4.353  4.0\n",
              "26   1.054  -9.598 -4.813   8.791  -3.620  0.174  2.0\n",
              "27   5.512  -7.985  4.424  10.964  -7.253  1.793  3.0\n",
              "28  -3.423  -8.262 -6.393   4.527  -5.556 -3.631  2.0\n",
              "29  -8.739   4.979 -4.102   5.473   9.370  3.156  0.0\n",
              "30  -7.338   4.093 -4.648   0.863  10.326  5.265  0.0"
            ]
          },
          "metadata": {
            "tags": []
          },
          "execution_count": 28
        }
      ]
    },
    {
      "cell_type": "code",
      "metadata": {
        "colab": {
          "base_uri": "https://localhost:8080/"
        },
        "id": "zpdB0lmXhR-n",
        "outputId": "36fa0166-ba60-45b7-fde8-6f520b955402"
      },
      "source": [
        "data[data['A2']>0],[data['A3']<1]\n"
      ],
      "execution_count": 29,
      "outputs": [
        {
          "output_type": "execute_result",
          "data": {
            "text/plain": [
              "(        A1     A2     A3     A4      A5     A6    C\n",
              " 1   -9.959  7.743 -4.534  5.540   5.431 -0.554  0.0\n",
              " 3   -9.211  1.786 -1.431  7.868   8.793 -1.010  0.0\n",
              " 15  -8.565  2.697 -2.042 -0.107  11.659 -0.063  0.0\n",
              " 16 -10.882  8.522  2.301  3.810  11.241  0.410  0.0\n",
              " 24  -7.935  4.549  2.592  4.944   9.763  1.275  0.0\n",
              " 29  -8.739  4.979 -4.102  5.473   9.370  3.156  0.0\n",
              " 30  -7.338  4.093 -4.648  0.863  10.326  5.265  0.0, [0      True\n",
              "  1      True\n",
              "  2      True\n",
              "  3      True\n",
              "  4      True\n",
              "  5      True\n",
              "  6      True\n",
              "  7     False\n",
              "  8      True\n",
              "  9      True\n",
              "  10     True\n",
              "  11    False\n",
              "  12     True\n",
              "  13    False\n",
              "  14     True\n",
              "  15     True\n",
              "  16    False\n",
              "  17     True\n",
              "  18    False\n",
              "  19    False\n",
              "  20     True\n",
              "  21     True\n",
              "  22     True\n",
              "  23     True\n",
              "  24    False\n",
              "  25    False\n",
              "  26     True\n",
              "  27    False\n",
              "  28     True\n",
              "  29     True\n",
              "  30     True\n",
              "  Name: A3, dtype: bool])"
            ]
          },
          "metadata": {
            "tags": []
          },
          "execution_count": 29
        }
      ]
    },
    {
      "cell_type": "code",
      "metadata": {
        "colab": {
          "base_uri": "https://localhost:8080/"
        },
        "id": "TK49uf62pzn8",
        "outputId": "111f51c6-b990-4da5-d0f7-1b22cb099128"
      },
      "source": [
        "data['A6'].sum()"
      ],
      "execution_count": 30,
      "outputs": [
        {
          "output_type": "execute_result",
          "data": {
            "text/plain": [
              "41.648999999999994"
            ]
          },
          "metadata": {
            "tags": []
          },
          "execution_count": 30
        }
      ]
    },
    {
      "cell_type": "code",
      "metadata": {
        "id": "twcnxKtqwmPQ",
        "colab": {
          "base_uri": "https://localhost:8080/"
        },
        "outputId": "6a35b2b5-75f6-4477-e506-aa9f30b11b34"
      },
      "source": [
        "#df.info(20)\n",
        "#df.dtypes\n",
        "#column=data.columns\n",
        "#df.shape\n",
        "#df.describe()\n",
        "data.size\n",
        "\n",
        "X=data.drop(columns=['C'])\n",
        "y=data.C.apply(str)\n",
        "\n",
        "clf = DecisionTreeClassifier(random_state=0,max_depth=10, max_features=6, min_samples_leaf=5)\n",
        "clf.fit(X,y)"
      ],
      "execution_count": 31,
      "outputs": [
        {
          "output_type": "execute_result",
          "data": {
            "text/plain": [
              "DecisionTreeClassifier(ccp_alpha=0.0, class_weight=None, criterion='gini',\n",
              "                       max_depth=10, max_features=6, max_leaf_nodes=None,\n",
              "                       min_impurity_decrease=0.0, min_impurity_split=None,\n",
              "                       min_samples_leaf=5, min_samples_split=2,\n",
              "                       min_weight_fraction_leaf=0.0, presort='deprecated',\n",
              "                       random_state=0, splitter='best')"
            ]
          },
          "metadata": {
            "tags": []
          },
          "execution_count": 31
        }
      ]
    },
    {
      "cell_type": "code",
      "metadata": {
        "colab": {
          "base_uri": "https://localhost:8080/"
        },
        "id": "YXQCOFp-FfrV",
        "outputId": "72313022-b1c9-4ddd-f13c-06d7116c9f20"
      },
      "source": [
        "clf.feature_importances_"
      ],
      "execution_count": 32,
      "outputs": [
        {
          "output_type": "execute_result",
          "data": {
            "text/plain": [
              "array([0.2421875, 0.2734375, 0.       , 0.       , 0.2421875, 0.2421875])"
            ]
          },
          "metadata": {
            "tags": []
          },
          "execution_count": 32
        }
      ]
    },
    {
      "cell_type": "code",
      "metadata": {
        "colab": {
          "base_uri": "https://localhost:8080/"
        },
        "id": "XpHcZOPeFxEI",
        "outputId": "14918b9a-11e0-4813-a471-2950c1d1550f"
      },
      "source": [
        "#data.DataFrame(data = clf.feature_importances_, index=X.columns, columns=['feature_importances'])\n",
        "data = clf.feature_importances_\n",
        "data"
      ],
      "execution_count": 33,
      "outputs": [
        {
          "output_type": "execute_result",
          "data": {
            "text/plain": [
              "array([0.2421875, 0.2734375, 0.       , 0.       , 0.2421875, 0.2421875])"
            ]
          },
          "metadata": {
            "tags": []
          },
          "execution_count": 33
        }
      ]
    },
    {
      "cell_type": "code",
      "metadata": {
        "colab": {
          "base_uri": "https://localhost:8080/"
        },
        "id": "nA2YNzSHcPwX",
        "outputId": "e9758f75-ae80-43a7-e61c-b0a5f2f8b5cd"
      },
      "source": [
        "index = X.columns\n",
        "index"
      ],
      "execution_count": 34,
      "outputs": [
        {
          "output_type": "execute_result",
          "data": {
            "text/plain": [
              "Index(['A1', 'A2', 'A3', 'A4', 'A5', 'A6'], dtype='object')"
            ]
          },
          "metadata": {
            "tags": []
          },
          "execution_count": 34
        }
      ]
    },
    {
      "cell_type": "code",
      "metadata": {
        "colab": {
          "base_uri": "https://localhost:8080/",
          "height": 618
        },
        "id": "Tu2vtxX1d9ZD",
        "outputId": "8540e415-91fb-42a4-ded4-22e07005f664"
      },
      "source": [
        "dot_data = export_graphviz(clf, out_file=None, filled=True, feature_names=list(X), class_names=y.unique())\n",
        "graph = graphviz.Source(dot_data)\n",
        "display(SVG(graph.pipe(format='svg')))"
      ],
      "execution_count": 35,
      "outputs": [
        {
          "output_type": "display_data",
          "data": {
            "text/plain": [
              "<IPython.core.display.SVG object>"
            ],
            "image/svg+xml": "<svg height=\"433pt\" viewBox=\"0.00 0.00 622.00 433.00\" width=\"622pt\" xmlns=\"http://www.w3.org/2000/svg\" xmlns:xlink=\"http://www.w3.org/1999/xlink\">\n<g class=\"graph\" id=\"graph0\" transform=\"scale(1 1) rotate(0) translate(4 429)\">\n<title>Tree</title>\n<polygon fill=\"#ffffff\" points=\"-4,4 -4,-429 618,-429 618,4 -4,4\" stroke=\"transparent\"/>\n<!-- 0 -->\n<g class=\"node\" id=\"node1\">\n<title>0</title>\n<polygon fill=\"#fefaf7\" points=\"456,-425 316,-425 316,-342 456,-342 456,-425\" stroke=\"#000000\"/>\n<text fill=\"#000000\" font-family=\"Times,serif\" font-size=\"14.00\" text-anchor=\"middle\" x=\"386\" y=\"-409.8\">A2 &lt;= -1.948</text>\n<text fill=\"#000000\" font-family=\"Times,serif\" font-size=\"14.00\" text-anchor=\"middle\" x=\"386\" y=\"-394.8\">gini = 0.799</text>\n<text fill=\"#000000\" font-family=\"Times,serif\" font-size=\"14.00\" text-anchor=\"middle\" x=\"386\" y=\"-379.8\">samples = 31</text>\n<text fill=\"#000000\" font-family=\"Times,serif\" font-size=\"14.00\" text-anchor=\"middle\" x=\"386\" y=\"-364.8\">value = [7, 6, 6, 6, 6]</text>\n<text fill=\"#000000\" font-family=\"Times,serif\" font-size=\"14.00\" text-anchor=\"middle\" x=\"386\" y=\"-349.8\">class = 1.0</text>\n</g>\n<!-- 1 -->\n<g class=\"node\" id=\"node2\">\n<title>1</title>\n<polygon fill=\"#ffffff\" points=\"377,-306 237,-306 237,-223 377,-223 377,-306\" stroke=\"#000000\"/>\n<text fill=\"#000000\" font-family=\"Times,serif\" font-size=\"14.00\" text-anchor=\"middle\" x=\"307\" y=\"-290.8\">A5 &lt;= -1.66</text>\n<text fill=\"#000000\" font-family=\"Times,serif\" font-size=\"14.00\" text-anchor=\"middle\" x=\"307\" y=\"-275.8\">gini = 0.75</text>\n<text fill=\"#000000\" font-family=\"Times,serif\" font-size=\"14.00\" text-anchor=\"middle\" x=\"307\" y=\"-260.8\">samples = 24</text>\n<text fill=\"#000000\" font-family=\"Times,serif\" font-size=\"14.00\" text-anchor=\"middle\" x=\"307\" y=\"-245.8\">value = [0, 6, 6, 6, 6]</text>\n<text fill=\"#000000\" font-family=\"Times,serif\" font-size=\"14.00\" text-anchor=\"middle\" x=\"307\" y=\"-230.8\">class = 0.0</text>\n</g>\n<!-- 0&#45;&gt;1 -->\n<g class=\"edge\" id=\"edge1\">\n<title>0-&gt;1</title>\n<path d=\"M358.3696,-341.8796C352.57,-333.1434 346.3941,-323.8404 340.4092,-314.8253\" fill=\"none\" stroke=\"#000000\"/>\n<polygon fill=\"#000000\" points=\"343.1951,-312.6935 334.7483,-306.2981 337.3632,-316.5652 343.1951,-312.6935\" stroke=\"#000000\"/>\n<text fill=\"#000000\" font-family=\"Times,serif\" font-size=\"14.00\" text-anchor=\"middle\" x=\"329.7978\" y=\"-327.103\">True</text>\n</g>\n<!-- 8 -->\n<g class=\"node\" id=\"node9\">\n<title>8</title>\n<polygon fill=\"#e58139\" points=\"535,-298.5 395,-298.5 395,-230.5 535,-230.5 535,-298.5\" stroke=\"#000000\"/>\n<text fill=\"#000000\" font-family=\"Times,serif\" font-size=\"14.00\" text-anchor=\"middle\" x=\"465\" y=\"-283.3\">gini = 0.0</text>\n<text fill=\"#000000\" font-family=\"Times,serif\" font-size=\"14.00\" text-anchor=\"middle\" x=\"465\" y=\"-268.3\">samples = 7</text>\n<text fill=\"#000000\" font-family=\"Times,serif\" font-size=\"14.00\" text-anchor=\"middle\" x=\"465\" y=\"-253.3\">value = [7, 0, 0, 0, 0]</text>\n<text fill=\"#000000\" font-family=\"Times,serif\" font-size=\"14.00\" text-anchor=\"middle\" x=\"465\" y=\"-238.3\">class = 1.0</text>\n</g>\n<!-- 0&#45;&gt;8 -->\n<g class=\"edge\" id=\"edge8\">\n<title>0-&gt;8</title>\n<path d=\"M413.6304,-341.8796C421.0763,-330.6636 429.1425,-318.5131 436.6282,-307.2372\" fill=\"none\" stroke=\"#000000\"/>\n<polygon fill=\"#000000\" points=\"439.6046,-309.082 442.2195,-298.8149 433.7727,-305.2104 439.6046,-309.082\" stroke=\"#000000\"/>\n<text fill=\"#000000\" font-family=\"Times,serif\" font-size=\"14.00\" text-anchor=\"middle\" x=\"447.17\" y=\"-319.6199\">False</text>\n</g>\n<!-- 2 -->\n<g class=\"node\" id=\"node3\">\n<title>2</title>\n<polygon fill=\"#ffffff\" points=\"298,-187 158,-187 158,-104 298,-104 298,-187\" stroke=\"#000000\"/>\n<text fill=\"#000000\" font-family=\"Times,serif\" font-size=\"14.00\" text-anchor=\"middle\" x=\"228\" y=\"-171.8\">A1 &lt;= 2.887</text>\n<text fill=\"#000000\" font-family=\"Times,serif\" font-size=\"14.00\" text-anchor=\"middle\" x=\"228\" y=\"-156.8\">gini = 0.5</text>\n<text fill=\"#000000\" font-family=\"Times,serif\" font-size=\"14.00\" text-anchor=\"middle\" x=\"228\" y=\"-141.8\">samples = 12</text>\n<text fill=\"#000000\" font-family=\"Times,serif\" font-size=\"14.00\" text-anchor=\"middle\" x=\"228\" y=\"-126.8\">value = [0, 0, 6, 6, 0]</text>\n<text fill=\"#000000\" font-family=\"Times,serif\" font-size=\"14.00\" text-anchor=\"middle\" x=\"228\" y=\"-111.8\">class = 4.0</text>\n</g>\n<!-- 1&#45;&gt;2 -->\n<g class=\"edge\" id=\"edge2\">\n<title>1-&gt;2</title>\n<path d=\"M279.3696,-222.8796C273.57,-214.1434 267.3941,-204.8404 261.4092,-195.8253\" fill=\"none\" stroke=\"#000000\"/>\n<polygon fill=\"#000000\" points=\"264.1951,-193.6935 255.7483,-187.2981 258.3632,-197.5652 264.1951,-193.6935\" stroke=\"#000000\"/>\n</g>\n<!-- 5 -->\n<g class=\"node\" id=\"node6\">\n<title>5</title>\n<polygon fill=\"#ffffff\" points=\"456,-187 316,-187 316,-104 456,-104 456,-187\" stroke=\"#000000\"/>\n<text fill=\"#000000\" font-family=\"Times,serif\" font-size=\"14.00\" text-anchor=\"middle\" x=\"386\" y=\"-171.8\">A6 &lt;= 2.457</text>\n<text fill=\"#000000\" font-family=\"Times,serif\" font-size=\"14.00\" text-anchor=\"middle\" x=\"386\" y=\"-156.8\">gini = 0.5</text>\n<text fill=\"#000000\" font-family=\"Times,serif\" font-size=\"14.00\" text-anchor=\"middle\" x=\"386\" y=\"-141.8\">samples = 12</text>\n<text fill=\"#000000\" font-family=\"Times,serif\" font-size=\"14.00\" text-anchor=\"middle\" x=\"386\" y=\"-126.8\">value = [0, 6, 0, 0, 6]</text>\n<text fill=\"#000000\" font-family=\"Times,serif\" font-size=\"14.00\" text-anchor=\"middle\" x=\"386\" y=\"-111.8\">class = 0.0</text>\n</g>\n<!-- 1&#45;&gt;5 -->\n<g class=\"edge\" id=\"edge5\">\n<title>1-&gt;5</title>\n<path d=\"M334.6304,-222.8796C340.43,-214.1434 346.6059,-204.8404 352.5908,-195.8253\" fill=\"none\" stroke=\"#000000\"/>\n<polygon fill=\"#000000\" points=\"355.6368,-197.5652 358.2517,-187.2981 349.8049,-193.6935 355.6368,-197.5652\" stroke=\"#000000\"/>\n</g>\n<!-- 3 -->\n<g class=\"node\" id=\"node4\">\n<title>3</title>\n<polygon fill=\"#39e5c5\" points=\"140,-68 0,-68 0,0 140,0 140,-68\" stroke=\"#000000\"/>\n<text fill=\"#000000\" font-family=\"Times,serif\" font-size=\"14.00\" text-anchor=\"middle\" x=\"70\" y=\"-52.8\">gini = 0.0</text>\n<text fill=\"#000000\" font-family=\"Times,serif\" font-size=\"14.00\" text-anchor=\"middle\" x=\"70\" y=\"-37.8\">samples = 6</text>\n<text fill=\"#000000\" font-family=\"Times,serif\" font-size=\"14.00\" text-anchor=\"middle\" x=\"70\" y=\"-22.8\">value = [0, 0, 6, 0, 0]</text>\n<text fill=\"#000000\" font-family=\"Times,serif\" font-size=\"14.00\" text-anchor=\"middle\" x=\"70\" y=\"-7.8\">class = 4.0</text>\n</g>\n<!-- 2&#45;&gt;3 -->\n<g class=\"edge\" id=\"edge3\">\n<title>2-&gt;3</title>\n<path d=\"M169.1666,-103.9815C155.289,-94.1881 140.5216,-83.7668 126.7386,-74.0402\" fill=\"none\" stroke=\"#000000\"/>\n<polygon fill=\"#000000\" points=\"128.4892,-70.9918 118.3007,-68.0856 124.4531,-76.7111 128.4892,-70.9918\" stroke=\"#000000\"/>\n</g>\n<!-- 4 -->\n<g class=\"node\" id=\"node5\">\n<title>4</title>\n<polygon fill=\"#3c39e5\" points=\"298,-68 158,-68 158,0 298,0 298,-68\" stroke=\"#000000\"/>\n<text fill=\"#000000\" font-family=\"Times,serif\" font-size=\"14.00\" text-anchor=\"middle\" x=\"228\" y=\"-52.8\">gini = 0.0</text>\n<text fill=\"#000000\" font-family=\"Times,serif\" font-size=\"14.00\" text-anchor=\"middle\" x=\"228\" y=\"-37.8\">samples = 6</text>\n<text fill=\"#000000\" font-family=\"Times,serif\" font-size=\"14.00\" text-anchor=\"middle\" x=\"228\" y=\"-22.8\">value = [0, 0, 0, 6, 0]</text>\n<text fill=\"#000000\" font-family=\"Times,serif\" font-size=\"14.00\" text-anchor=\"middle\" x=\"228\" y=\"-7.8\">class = 2.0</text>\n</g>\n<!-- 2&#45;&gt;4 -->\n<g class=\"edge\" id=\"edge4\">\n<title>2-&gt;4</title>\n<path d=\"M228,-103.9815C228,-95.618 228,-86.7965 228,-78.3409\" fill=\"none\" stroke=\"#000000\"/>\n<polygon fill=\"#000000\" points=\"231.5001,-78.2636 228,-68.2637 224.5001,-78.2637 231.5001,-78.2636\" stroke=\"#000000\"/>\n</g>\n<!-- 6 -->\n<g class=\"node\" id=\"node7\">\n<title>6</title>\n<polygon fill=\"#e539c0\" points=\"456,-68 316,-68 316,0 456,0 456,-68\" stroke=\"#000000\"/>\n<text fill=\"#000000\" font-family=\"Times,serif\" font-size=\"14.00\" text-anchor=\"middle\" x=\"386\" y=\"-52.8\">gini = 0.0</text>\n<text fill=\"#000000\" font-family=\"Times,serif\" font-size=\"14.00\" text-anchor=\"middle\" x=\"386\" y=\"-37.8\">samples = 6</text>\n<text fill=\"#000000\" font-family=\"Times,serif\" font-size=\"14.00\" text-anchor=\"middle\" x=\"386\" y=\"-22.8\">value = [0, 0, 0, 0, 6]</text>\n<text fill=\"#000000\" font-family=\"Times,serif\" font-size=\"14.00\" text-anchor=\"middle\" x=\"386\" y=\"-7.8\">class = 3.0</text>\n</g>\n<!-- 5&#45;&gt;6 -->\n<g class=\"edge\" id=\"edge6\">\n<title>5-&gt;6</title>\n<path d=\"M386,-103.9815C386,-95.618 386,-86.7965 386,-78.3409\" fill=\"none\" stroke=\"#000000\"/>\n<polygon fill=\"#000000\" points=\"389.5001,-78.2636 386,-68.2637 382.5001,-78.2637 389.5001,-78.2636\" stroke=\"#000000\"/>\n</g>\n<!-- 7 -->\n<g class=\"node\" id=\"node8\">\n<title>7</title>\n<polygon fill=\"#7be539\" points=\"614,-68 474,-68 474,0 614,0 614,-68\" stroke=\"#000000\"/>\n<text fill=\"#000000\" font-family=\"Times,serif\" font-size=\"14.00\" text-anchor=\"middle\" x=\"544\" y=\"-52.8\">gini = 0.0</text>\n<text fill=\"#000000\" font-family=\"Times,serif\" font-size=\"14.00\" text-anchor=\"middle\" x=\"544\" y=\"-37.8\">samples = 6</text>\n<text fill=\"#000000\" font-family=\"Times,serif\" font-size=\"14.00\" text-anchor=\"middle\" x=\"544\" y=\"-22.8\">value = [0, 6, 0, 0, 0]</text>\n<text fill=\"#000000\" font-family=\"Times,serif\" font-size=\"14.00\" text-anchor=\"middle\" x=\"544\" y=\"-7.8\">class = 0.0</text>\n</g>\n<!-- 5&#45;&gt;7 -->\n<g class=\"edge\" id=\"edge7\">\n<title>5-&gt;7</title>\n<path d=\"M444.8334,-103.9815C458.711,-94.1881 473.4784,-83.7668 487.2614,-74.0402\" fill=\"none\" stroke=\"#000000\"/>\n<polygon fill=\"#000000\" points=\"489.5469,-76.7111 495.6993,-68.0856 485.5108,-70.9918 489.5469,-76.7111\" stroke=\"#000000\"/>\n</g>\n</g>\n</svg>"
          },
          "metadata": {
            "tags": []
          }
        }
      ]
    },
    {
      "cell_type": "code",
      "metadata": {
        "colab": {
          "base_uri": "https://localhost:8080/"
        },
        "id": "NOnDe5s5Xuir",
        "outputId": "caa34f29-3870-4415-8ad2-28662fae1424"
      },
      "source": [
        "round(5.94985714286, 2)"
      ],
      "execution_count": 36,
      "outputs": [
        {
          "output_type": "execute_result",
          "data": {
            "text/plain": [
              "5.95"
            ]
          },
          "metadata": {
            "tags": []
          },
          "execution_count": 36
        }
      ]
    }
  ]
}