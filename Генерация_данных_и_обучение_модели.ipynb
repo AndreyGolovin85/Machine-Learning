{
  "nbformat": 4,
  "nbformat_minor": 0,
  "metadata": {
    "kernelspec": {
      "display_name": "Python 3",
      "language": "python",
      "name": "python3"
    },
    "language_info": {
      "codemirror_mode": {
        "name": "ipython",
        "version": 3
      },
      "file_extension": ".py",
      "mimetype": "text/x-python",
      "name": "python",
      "nbconvert_exporter": "python",
      "pygments_lexer": "ipython3",
      "version": "3.6.4"
    },
    "colab": {
      "name": "Генерация данных и обучение модели.ipynb",
      "provenance": [],
      "include_colab_link": true
    }
  },
  "cells": [
    {
      "cell_type": "markdown",
      "metadata": {
        "id": "view-in-github",
        "colab_type": "text"
      },
      "source": [
        "<a href=\"https://colab.research.google.com/github/AndreyGolovin85/Machine-Learning/blob/main/%D0%93%D0%B5%D0%BD%D0%B5%D1%80%D0%B0%D1%86%D0%B8%D1%8F_%D0%B4%D0%B0%D0%BD%D0%BD%D1%8B%D1%85_%D0%B8_%D0%BE%D0%B1%D1%83%D1%87%D0%B5%D0%BD%D0%B8%D0%B5_%D0%BC%D0%BE%D0%B4%D0%B5%D0%BB%D0%B8.ipynb\" target=\"_parent\"><img src=\"https://colab.research.google.com/assets/colab-badge.svg\" alt=\"Open In Colab\"/></a>"
      ]
    },
    {
      "cell_type": "markdown",
      "metadata": {
        "id": "Z46rL2S7YfP3"
      },
      "source": [
        "### Задание 4\n",
        "Сгенерировать набор данных для построения регрессионной модели и обучить на этих данных нейронную сеть прямого распространения."
      ]
    },
    {
      "cell_type": "code",
      "metadata": {
        "id": "IXQeFtLqYfP6"
      },
      "source": [
        "from sklearn.datasets import make_regression\n",
        "import warnings\n",
        "warnings.filterwarnings(\"ignore\")\n",
        "\n",
        "X,y = make_regression(n_features=3)"
      ],
      "execution_count": 1,
      "outputs": []
    },
    {
      "cell_type": "markdown",
      "metadata": {
        "id": "pV4VCTAYYfP7"
      },
      "source": [
        "Делим данные на обучающую и тестовую выборки используя train_test_split, а также проводим их нормализацию."
      ]
    },
    {
      "cell_type": "code",
      "metadata": {
        "id": "vgg5KasJYfP7"
      },
      "source": [
        "from sklearn.model_selection import train_test_split\n",
        "from sklearn import preprocessing\n",
        "\n",
        "X = preprocessing.StandardScaler().fit_transform(X) #нормировка данных\n",
        "X_train, X_test, y_train, y_test = train_test_split(X, y, test_size=0.2, random_state=42) #20% для теста"
      ],
      "execution_count": 2,
      "outputs": []
    },
    {
      "cell_type": "markdown",
      "metadata": {
        "id": "742iT8imYfP8"
      },
      "source": [
        "Для решения задачи регрессии используем многослойный персептрон MLP из библиотеки sklearn и сетку GridSearchCV<br>\n",
        "для подбора оптимальных параметров."
      ]
    },
    {
      "cell_type": "code",
      "metadata": {
        "colab": {
          "base_uri": "https://localhost:8080/"
        },
        "id": "kCiPildLYfP8",
        "outputId": "5fb053f0-ff1e-4d75-8a37-5495ea09a6d1"
      },
      "source": [
        "from sklearn.neural_network import MLPRegressor\n",
        "from sklearn.model_selection import GridSearchCV\n",
        "from sklearn import metrics\n",
        "\n",
        "grid_params = {'hidden_layer_sizes' : [3,4,5,6], 'activation' : ['identity', 'logistic', 'tanh'],\n",
        "               'solver' : ['lbfgs', 'sgd'], 'alpha' : [0.0001,0.0012,0.01], \n",
        "               'learning_rate' : ['constant', 'invscaling', 'adaptive']}\n",
        "\n",
        "cls = MLPRegressor()\n",
        "grid = GridSearchCV(cls, grid_params)\n",
        "grid.fit(X_train,y_train)\n",
        "cls = grid.best_estimator_\n",
        "print(grid.best_params_)"
      ],
      "execution_count": 3,
      "outputs": [
        {
          "output_type": "stream",
          "text": [
            "{'activation': 'identity', 'alpha': 0.0001, 'hidden_layer_sizes': 5, 'learning_rate': 'invscaling', 'solver': 'lbfgs'}\n"
          ],
          "name": "stdout"
        }
      ]
    },
    {
      "cell_type": "code",
      "metadata": {
        "colab": {
          "base_uri": "https://localhost:8080/"
        },
        "id": "0UnkZFPvYfP9",
        "outputId": "5adb19b1-214c-4c71-9a9f-4733f5032119"
      },
      "source": [
        "%%time\n",
        "cls.fit(X_train,y_train)"
      ],
      "execution_count": 4,
      "outputs": [
        {
          "output_type": "stream",
          "text": [
            "CPU times: user 6.52 ms, sys: 0 ns, total: 6.52 ms\n",
            "Wall time: 6.54 ms\n"
          ],
          "name": "stdout"
        },
        {
          "output_type": "execute_result",
          "data": {
            "text/plain": [
              "MLPRegressor(activation='identity', alpha=0.0001, batch_size='auto', beta_1=0.9,\n",
              "             beta_2=0.999, early_stopping=False, epsilon=1e-08,\n",
              "             hidden_layer_sizes=5, learning_rate='invscaling',\n",
              "             learning_rate_init=0.001, max_fun=15000, max_iter=200,\n",
              "             momentum=0.9, n_iter_no_change=10, nesterovs_momentum=True,\n",
              "             power_t=0.5, random_state=None, shuffle=True, solver='lbfgs',\n",
              "             tol=0.0001, validation_fraction=0.1, verbose=False,\n",
              "             warm_start=False)"
            ]
          },
          "metadata": {
            "tags": []
          },
          "execution_count": 4
        }
      ]
    },
    {
      "cell_type": "code",
      "metadata": {
        "colab": {
          "base_uri": "https://localhost:8080/"
        },
        "id": "kgUXpjeFYfP9",
        "outputId": "54ba18c6-02fe-45fb-b95b-8e1d58e80e8f"
      },
      "source": [
        "print(cls.coefs_)"
      ],
      "execution_count": 5,
      "outputs": [
        {
          "output_type": "stream",
          "text": [
            "[array([[ 2.96849797,  0.2887131 , -1.59600246,  1.99827209,  0.09617668],\n",
            "       [ 7.64829   ,  0.4910196 , -4.07085198,  4.53659945, -0.19232578],\n",
            "       [ 6.35801624,  0.14371343, -3.60227999,  3.15577236,  0.70767054]]), array([[ 5.98600878],\n",
            "       [-4.18830297],\n",
            "       [-5.054475  ],\n",
            "       [ 0.36560736],\n",
            "       [ 0.41636846]])]\n"
          ],
          "name": "stdout"
        }
      ]
    },
    {
      "cell_type": "code",
      "metadata": {
        "colab": {
          "base_uri": "https://localhost:8080/"
        },
        "id": "csqqawnJYfP-",
        "outputId": "3596128d-a04a-4501-ab0a-ea3da74a7196"
      },
      "source": [
        "y_pred = cls.predict(X_test)\n",
        "r2 = metrics.r2_score(y_test,y_pred)\n",
        "mse = metrics.mean_squared_error(y_test,y_pred)\n",
        "print(\"R2 =\",r2)\n",
        "print(\"MSE =\",mse)"
      ],
      "execution_count": 6,
      "outputs": [
        {
          "output_type": "stream",
          "text": [
            "R2 = 0.999999999999998\n",
            "MSE = 1.1164457570523918e-11\n"
          ],
          "name": "stdout"
        }
      ]
    }
  ]
}